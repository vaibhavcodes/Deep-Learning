{
 "cells": [
  {
   "cell_type": "markdown",
   "metadata": {},
   "source": [
    "# Simple CNN code for multi-class classification using Keras to identify images"
   ]
  },
  {
   "cell_type": "code",
   "execution_count": 1,
   "metadata": {},
   "outputs": [
    {
     "name": "stderr",
     "output_type": "stream",
     "text": [
      "Using TensorFlow backend.\n"
     ]
    },
    {
     "name": "stdout",
     "output_type": "stream",
     "text": [
      "Found 95 images belonging to 4 classes.\n",
      "Found 95 images belonging to 4 classes.\n",
      "Epoch 1/10\n",
      "800/800 [==============================] - 1005s 1s/step - loss: 0.1021 - accuracy: 0.9626 - val_loss: 7.5504e-04 - val_accuracy: 1.0000\n",
      "Epoch 2/10\n",
      "800/800 [==============================] - 1085s 1s/step - loss: 2.0639e-04 - accuracy: 1.0000 - val_loss: 5.4936e-05 - val_accuracy: 1.0000\n",
      "Epoch 3/10\n",
      "800/800 [==============================] - 954s 1s/step - loss: 8.3560e-05 - accuracy: 1.0000 - val_loss: 2.6525e-05 - val_accuracy: 1.0000\n",
      "Epoch 4/10\n",
      "800/800 [==============================] - 984s 1s/step - loss: 4.5593e-05 - accuracy: 1.0000 - val_loss: 4.6826e-06 - val_accuracy: 1.0000\n",
      "Epoch 5/10\n",
      "800/800 [==============================] - 1006s 1s/step - loss: 1.6745e-05 - accuracy: 1.0000 - val_loss: 2.3621e-04 - val_accuracy: 1.0000\n",
      "Epoch 6/10\n",
      "800/800 [==============================] - 1038s 1s/step - loss: 1.0182e-05 - accuracy: 1.0000 - val_loss: 6.8065e-07 - val_accuracy: 1.0000\n",
      "Epoch 7/10\n",
      "800/800 [==============================] - 1025s 1s/step - loss: 6.5648e-06 - accuracy: 1.0000 - val_loss: 9.4995e-07 - val_accuracy: 1.0000\n",
      "Epoch 8/10\n",
      "800/800 [==============================] - 1113s 1s/step - loss: 4.1509e-06 - accuracy: 1.0000 - val_loss: 1.3672e-06 - val_accuracy: 1.0000\n",
      "Epoch 9/10\n",
      "800/800 [==============================] - 1158s 1s/step - loss: 2.2271e-06 - accuracy: 1.0000 - val_loss: 1.4343e-06 - val_accuracy: 1.0000\n",
      "Epoch 10/10\n",
      "800/800 [==============================] - 1172s 1s/step - loss: 1.4523e-06 - accuracy: 1.0000 - val_loss: 1.9408e-06 - val_accuracy: 1.0000\n"
     ]
    },
    {
     "data": {
      "text/plain": [
       "<keras.callbacks.callbacks.History at 0x2386d3a0808>"
      ]
     },
     "execution_count": 1,
     "metadata": {},
     "output_type": "execute_result"
    }
   ],
   "source": [
    "from keras.models import Sequential\n",
    "from keras.layers import Conv2D\n",
    "from keras.layers import MaxPooling2D\n",
    "from keras.layers import Flatten\n",
    "from keras.layers import Dense\n",
    "from IPython.display import display\n",
    "from PIL import Image\n",
    "from keras.preprocessing.image import ImageDataGenerator\n",
    "\n",
    "# Creation of a model\n",
    "classification_model = Sequential()\n",
    "# Convolution Layer-1\n",
    "classification_model.add(Conv2D(32, (3,3), input_shape=(64,64,3), activation='relu'))\n",
    "classification_model.add(MaxPooling2D((2,2)))\n",
    "\n",
    "# Convolution layer-2\n",
    "classification_model.add(Conv2D(32, (3,3), activation='relu'))\n",
    "classification_model.add(MaxPooling2D((2,2)))\n",
    "\n",
    "\n",
    "# Full Forward Network\n",
    "classification_model.add(Flatten())\n",
    "#Hidden Lyer-1\n",
    "classification_model.add(Dense(units=128, activation='relu'))\n",
    "#Output-Layer\n",
    "classification_model.add(Dense(units=4, activation='softmax'))\n",
    "\n",
    "# Optimizing\n",
    "classification_model.compile(optimizer='adam', loss='categorical_crossentropy', metrics=['accuracy'])\n",
    "\n",
    "# Augmentation of the training data\n",
    "augment_train = ImageDataGenerator(rescale= 1./255, zoom_range=0.2, horizontal_flip=True, shear_range=0.2)\n",
    "augment_test = ImageDataGenerator(rescale= 1./255)\n",
    "\n",
    "training_set = augment_train.flow_from_directory(r\"C:\\Users\\khand\\Downloads\\Deep_Learning\\Deep Learning 2\\DL_Convolutional_Neural_Network\\Images_databank\\Acquaintance\", target_size = (64, 64),\n",
    "                                                 batch_size = 32)\n",
    "\n",
    "testing_set = augment_train.flow_from_directory(r\"C:\\Users\\khand\\Downloads\\Deep_Learning\\Deep Learning 2\\DL_Convolutional_Neural_Network\\Images_databank\\Acquaintance\", target_size = (64, 64),\n",
    "                                                 batch_size = 32)\n",
    "\n",
    "# Fitting of model\n",
    "classification_model.fit_generator(training_set,\n",
    "                                  steps_per_epoch=800,\n",
    "                                  epochs=10,\n",
    "                                  validation_data=testing_set,\n",
    "                                  validation_steps=200)"
   ]
  },
  {
   "cell_type": "markdown",
   "metadata": {},
   "source": [
    "# Prediction"
   ]
  },
  {
   "cell_type": "code",
   "execution_count": 8,
   "metadata": {},
   "outputs": [],
   "source": [
    "import numpy as np\n",
    "from keras.preprocessing import image\n",
    "\n",
    "test_img = image.load_img(r'C:\\Users\\khand\\Downloads\\Deep_Learning\\Deep Learning 2\\DL_Convolutional_Neural_Network\\Images_databank\\testing_images\\test3.JPG', target_size=(64,64))\n",
    "test_img = image.img_to_array(test_img)\n",
    "\n",
    "test_img = np.expand_dims(test_img, axis=0)\n",
    "\n",
    "result = classification_model.predict(test_img)"
   ]
  },
  {
   "cell_type": "code",
   "execution_count": 9,
   "metadata": {},
   "outputs": [
    {
     "data": {
      "text/plain": [
       "{'Brother': 0, 'Dady': 1, 'Mom': 2, 'Vaibhav': 3}"
      ]
     },
     "execution_count": 9,
     "metadata": {},
     "output_type": "execute_result"
    }
   ],
   "source": [
    "training_set.class_indices"
   ]
  },
  {
   "cell_type": "code",
   "execution_count": 10,
   "metadata": {},
   "outputs": [
    {
     "name": "stdout",
     "output_type": "stream",
     "text": [
      "Dady\n"
     ]
    }
   ],
   "source": [
    "ind = result.argmax()\n",
    "result = list(training_set.class_indices.keys())[ind]\n",
    "print(result)"
   ]
  }
 ],
 "metadata": {
  "kernelspec": {
   "display_name": "Python 3",
   "language": "python",
   "name": "python3"
  },
  "language_info": {
   "codemirror_mode": {
    "name": "ipython",
    "version": 3
   },
   "file_extension": ".py",
   "mimetype": "text/x-python",
   "name": "python",
   "nbconvert_exporter": "python",
   "pygments_lexer": "ipython3",
   "version": "3.7.7"
  }
 },
 "nbformat": 4,
 "nbformat_minor": 4
}
